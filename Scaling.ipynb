{
 "cells": [
  {
   "cell_type": "code",
   "execution_count": 3,
   "id": "6dd2fd39",
   "metadata": {},
   "outputs": [],
   "source": [
    "import numpy as np"
   ]
  },
  {
   "cell_type": "code",
   "execution_count": 31,
   "id": "6ec41357",
   "metadata": {},
   "outputs": [],
   "source": [
    "train_data=np.array([[0],[10],[20],[30],[40],[50],[60]])"
   ]
  },
  {
   "cell_type": "code",
   "execution_count": 32,
   "id": "ccd811c7",
   "metadata": {},
   "outputs": [],
   "source": [
    "from sklearn.preprocessing import MinMaxScaler"
   ]
  },
  {
   "cell_type": "code",
   "execution_count": 33,
   "id": "8033389d",
   "metadata": {},
   "outputs": [],
   "source": [
    "sc=MinMaxScaler()"
   ]
  },
  {
   "cell_type": "code",
   "execution_count": 34,
   "id": "f4da7817",
   "metadata": {},
   "outputs": [],
   "source": [
    "train_data=sc.fit_transform(train_data)"
   ]
  },
  {
   "cell_type": "code",
   "execution_count": 35,
   "id": "977ad4d5",
   "metadata": {},
   "outputs": [
    {
     "data": {
      "text/plain": [
       "array([[0.        ],\n",
       "       [0.16666667],\n",
       "       [0.33333333],\n",
       "       [0.5       ],\n",
       "       [0.66666667],\n",
       "       [0.83333333],\n",
       "       [1.        ]])"
      ]
     },
     "execution_count": 35,
     "metadata": {},
     "output_type": "execute_result"
    }
   ],
   "source": [
    "train_data"
   ]
  },
  {
   "cell_type": "code",
   "execution_count": 15,
   "id": "19857239",
   "metadata": {},
   "outputs": [],
   "source": [
    "test_data=np.array([[40],[50],[10]])"
   ]
  },
  {
   "cell_type": "code",
   "execution_count": 23,
   "id": "84ded95d",
   "metadata": {},
   "outputs": [],
   "source": [
    "test_data= sc.fit_transform(test_data)"
   ]
  },
  {
   "cell_type": "code",
   "execution_count": 24,
   "id": "5ccaebe9",
   "metadata": {},
   "outputs": [
    {
     "data": {
      "text/plain": [
       "array([[0.75],\n",
       "       [1.  ],\n",
       "       [0.  ]])"
      ]
     },
     "execution_count": 24,
     "metadata": {},
     "output_type": "execute_result"
    }
   ],
   "source": [
    "test_data"
   ]
  },
  {
   "cell_type": "code",
   "execution_count": null,
   "id": "ca0c0670",
   "metadata": {},
   "outputs": [],
   "source": [
    "# why we do only transform, bcoz using fit will make it calculate the values again and will change them\n",
    "# to avoid recalculating\n"
   ]
  },
  {
   "cell_type": "code",
   "execution_count": 36,
   "id": "c80ad3ab",
   "metadata": {},
   "outputs": [],
   "source": [
    "test_data=np.array([[40],[50],[10]])"
   ]
  },
  {
   "cell_type": "code",
   "execution_count": 37,
   "id": "5d29be77",
   "metadata": {},
   "outputs": [],
   "source": [
    "test_data= sc.transform(test_data)"
   ]
  },
  {
   "cell_type": "code",
   "execution_count": 38,
   "id": "18623167",
   "metadata": {},
   "outputs": [
    {
     "data": {
      "text/plain": [
       "array([[0.66666667],\n",
       "       [0.83333333],\n",
       "       [0.16666667]])"
      ]
     },
     "execution_count": 38,
     "metadata": {},
     "output_type": "execute_result"
    }
   ],
   "source": [
    "test_data"
   ]
  },
  {
   "cell_type": "code",
   "execution_count": 39,
   "id": "9c3e2b23",
   "metadata": {},
   "outputs": [],
   "source": [
    "# fit means to learn from data"
   ]
  },
  {
   "cell_type": "code",
   "execution_count": 40,
   "id": "3db6465b",
   "metadata": {},
   "outputs": [],
   "source": [
    "#we can also use fit to train data and then transform for both test and train data"
   ]
  },
  {
   "cell_type": "code",
   "execution_count": 45,
   "id": "04f531ae",
   "metadata": {},
   "outputs": [],
   "source": [
    "train_data=np.array([[0],[10],[20],[30],[40],[50],[60]])"
   ]
  },
  {
   "cell_type": "code",
   "execution_count": 46,
   "id": "c038cd14",
   "metadata": {},
   "outputs": [],
   "source": [
    "from sklearn.preprocessing import MinMaxScaler"
   ]
  },
  {
   "cell_type": "code",
   "execution_count": 43,
   "id": "a088a069",
   "metadata": {},
   "outputs": [],
   "source": []
  },
  {
   "cell_type": "code",
   "execution_count": 47,
   "id": "cd95a81b",
   "metadata": {},
   "outputs": [
    {
     "data": {
      "text/plain": [
       "MinMaxScaler()"
      ]
     },
     "execution_count": 47,
     "metadata": {},
     "output_type": "execute_result"
    }
   ],
   "source": [
    "sc.fit(train_data)"
   ]
  },
  {
   "cell_type": "code",
   "execution_count": 48,
   "id": "74b5dec3",
   "metadata": {},
   "outputs": [],
   "source": [
    "train_data=sc.transform(train_data)"
   ]
  },
  {
   "cell_type": "code",
   "execution_count": 49,
   "id": "1e4f5a68",
   "metadata": {},
   "outputs": [
    {
     "data": {
      "text/plain": [
       "array([[0.        ],\n",
       "       [0.16666667],\n",
       "       [0.33333333],\n",
       "       [0.5       ],\n",
       "       [0.66666667],\n",
       "       [0.83333333],\n",
       "       [1.        ]])"
      ]
     },
     "execution_count": 49,
     "metadata": {},
     "output_type": "execute_result"
    }
   ],
   "source": [
    "train_data"
   ]
  },
  {
   "cell_type": "code",
   "execution_count": 51,
   "id": "b673ba09",
   "metadata": {},
   "outputs": [],
   "source": [
    "test_data=np.array([[40],[50],[10]])\n",
    "test_data=sc.transform(test_data)"
   ]
  },
  {
   "cell_type": "code",
   "execution_count": 52,
   "id": "0a90c0c6",
   "metadata": {},
   "outputs": [
    {
     "data": {
      "text/plain": [
       "array([[0.66666667],\n",
       "       [0.83333333],\n",
       "       [0.16666667]])"
      ]
     },
     "execution_count": 52,
     "metadata": {},
     "output_type": "execute_result"
    }
   ],
   "source": [
    "test_data"
   ]
  },
  {
   "cell_type": "code",
   "execution_count": null,
   "id": "16e6157e",
   "metadata": {},
   "outputs": [],
   "source": []
  }
 ],
 "metadata": {
  "kernelspec": {
   "display_name": "Python 3 (ipykernel)",
   "language": "python",
   "name": "python3"
  },
  "language_info": {
   "codemirror_mode": {
    "name": "ipython",
    "version": 3
   },
   "file_extension": ".py",
   "mimetype": "text/x-python",
   "name": "python",
   "nbconvert_exporter": "python",
   "pygments_lexer": "ipython3",
   "version": "3.9.12"
  }
 },
 "nbformat": 4,
 "nbformat_minor": 5
}
