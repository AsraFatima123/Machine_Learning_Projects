{
 "cells": [
  {
   "cell_type": "code",
   "execution_count": 18,
   "id": "031b73e4",
   "metadata": {},
   "outputs": [
    {
     "data": {
      "text/plain": [
       "'d:\\\\Users\\\\NAME\\\\Desktop\\\\INNOMATICS\\\\Machine Learning\\\\1916257-MNIST_--_Hand_Written_Digits_-_G_D_Abhishek'"
      ]
     },
     "execution_count": 18,
     "metadata": {},
     "output_type": "execute_result"
    }
   ],
   "source": [
    "import os\n",
    "os.getcwd()"
   ]
  },
  {
   "cell_type": "code",
   "execution_count": 19,
   "id": "df83bbd6",
   "metadata": {},
   "outputs": [],
   "source": [
    "os.chdir(r\"d:\\Users\\NAME\\Desktop\\INNOMATICS\\Machine Learning\\1916257-MNIST_--_Hand_Written_Digits_-_G_D_Abhishek\")"
   ]
  },
  {
   "cell_type": "code",
   "execution_count": 20,
   "id": "3ef66106",
   "metadata": {},
   "outputs": [],
   "source": [
    "import joblib\n",
    "import numpy as np\n",
    "from PIL import Image"
   ]
  },
  {
   "cell_type": "code",
   "execution_count": 21,
   "id": "7ad56c79",
   "metadata": {},
   "outputs": [],
   "source": [
    "model = joblib.load(\"handwritten_digit.pkl\")"
   ]
  },
  {
   "cell_type": "code",
   "execution_count": 22,
   "id": "a8beb44e",
   "metadata": {},
   "outputs": [
    {
     "data": {
      "text/plain": [
       "KNeighborsClassifier()"
      ]
     },
     "execution_count": 22,
     "metadata": {},
     "output_type": "execute_result"
    }
   ],
   "source": [
    "model"
   ]
  },
  {
   "cell_type": "code",
   "execution_count": 23,
   "id": "4dfea21c",
   "metadata": {},
   "outputs": [],
   "source": [
    "path = r\"d:\\Users\\NAME\\Desktop\\INNOMATICS\\Machine Learning\\1916257-MNIST_--_Hand_Written_Digits_-_G_D_Abhishek\\MNIST Dataset JPG format (1)\\MNIST Dataset JPG format\\MNIST - JPG - testing\\0\\188.jpg\""
   ]
  },
  {
   "cell_type": "code",
   "execution_count": 24,
   "id": "6993235b",
   "metadata": {},
   "outputs": [],
   "source": [
    "from sklearn.preprocessing import MinMaxScaler\n",
    "sc = MinMaxScaler()"
   ]
  },
  {
   "cell_type": "code",
   "execution_count": 25,
   "id": "987dcbf0",
   "metadata": {},
   "outputs": [],
   "source": [
    "def predict_digit(path):\n",
    "        \n",
    "    #Read the image\n",
    "    img = Image.open(path)\n",
    "    #Convert the img into grayscale\n",
    "    img = img.convert(\"L\")\n",
    "    #Resize the img into 28 * 28\n",
    "    img = img.resize((28, 28))\n",
    "    \n",
    "    display(img)\n",
    "    #Convert into numpy array\n",
    "    img = np.asarray(img)\n",
    "    # Reshape into 1, 784 -- 1 -- Single Image, 784 -- No of pixels\n",
    "    img = img.reshape((1,784))\n",
    "    # Scaling\n",
    "    img = sc.transform(img)\n",
    "    #Feed the image to the model\n",
    "    prediction = model.predict(img)\n",
    "\n",
    "    return prediction"
   ]
  },
  {
   "cell_type": "code",
   "execution_count": null,
   "id": "6aa52574",
   "metadata": {},
   "outputs": [],
   "source": []
  },
  {
   "cell_type": "code",
   "execution_count": 28,
   "id": "f4cd790f",
   "metadata": {},
   "outputs": [
    {
     "ename": "AttributeError",
     "evalue": "'KNeighborsClassifier' object has no attribute 'predict_digit'",
     "output_type": "error",
     "traceback": [
      "\u001b[1;31m---------------------------------------------------------------------------\u001b[0m",
      "\u001b[1;31mAttributeError\u001b[0m                            Traceback (most recent call last)",
      "Input \u001b[1;32mIn [28]\u001b[0m, in \u001b[0;36m<cell line: 1>\u001b[1;34m()\u001b[0m\n\u001b[1;32m----> 1\u001b[0m \u001b[43mmodel\u001b[49m\u001b[38;5;241;43m.\u001b[39;49m\u001b[43mpredict_digit\u001b[49m(path)\n",
      "\u001b[1;31mAttributeError\u001b[0m: 'KNeighborsClassifier' object has no attribute 'predict_digit'"
     ]
    }
   ],
   "source": [
    "model.predict_digit(path)"
   ]
  },
  {
   "cell_type": "code",
   "execution_count": null,
   "id": "35085ac2",
   "metadata": {},
   "outputs": [],
   "source": []
  }
 ],
 "metadata": {
  "kernelspec": {
   "display_name": "Python 3 (ipykernel)",
   "language": "python",
   "name": "python3"
  },
  "language_info": {
   "codemirror_mode": {
    "name": "ipython",
    "version": 3
   },
   "file_extension": ".py",
   "mimetype": "text/x-python",
   "name": "python",
   "nbconvert_exporter": "python",
   "pygments_lexer": "ipython3",
   "version": "3.9.12"
  }
 },
 "nbformat": 4,
 "nbformat_minor": 5
}
